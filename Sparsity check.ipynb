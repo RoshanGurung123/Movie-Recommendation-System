{
 "cells": [
  {
   "cell_type": "code",
   "execution_count": 1,
   "metadata": {
    "collapsed": true
   },
   "outputs": [],
   "source": [
    "import pandas as pd"
   ]
  },
  {
   "cell_type": "code",
   "execution_count": 13,
   "outputs": [],
   "source": [
    "movielensSmall=pd.read_csv('Movielens dataset/ratings.csv')"
   ],
   "metadata": {
    "collapsed": false
   }
  },
  {
   "cell_type": "code",
   "execution_count": 14,
   "outputs": [
    {
     "name": "stdout",
     "output_type": "stream",
     "text": [
      "Sparsity Ratio: 0.9830\n"
     ]
    }
   ],
   "source": [
    "# Create a user-item matrix\n",
    "user_item_matrix = movielensSmall.pivot(index='userId', columns='movieId', values='rating')\n",
    "\n",
    "# Calculate sparsity ratio\n",
    "total_elements = user_item_matrix.size\n",
    "num_zeros = total_elements - user_item_matrix.count().sum()\n",
    "sparsity_ratio = num_zeros / total_elements\n",
    "\n",
    "# Print the sparsity ratio\n",
    "print(f'Sparsity Ratio: {sparsity_ratio:.4f}')"
   ],
   "metadata": {
    "collapsed": false
   }
  },
  {
   "cell_type": "code",
   "execution_count": 16,
   "outputs": [],
   "source": [
    "movielenslarge=pd.read_csv('Movielens 1M dataset/ratings.dat',\n",
    "                        names=['user_id', 'movie_id', 'rating', 'time'],\n",
    "                        engine='python', delimiter='::')"
   ],
   "metadata": {
    "collapsed": false
   }
  },
  {
   "cell_type": "code",
   "execution_count": 17,
   "outputs": [
    {
     "name": "stdout",
     "output_type": "stream",
     "text": [
      "Sparsity Ratio: 0.9553\n"
     ]
    }
   ],
   "source": [
    "# Create a user-item matrix\n",
    "user_item_matrix_1m = movielenslarge.pivot(index='user_id', columns='movie_id', values='rating')\n",
    "\n",
    "# Calculate sparsity ratio\n",
    "total_elements = user_item_matrix_1m.size\n",
    "num_zeros = total_elements - user_item_matrix_1m.count().sum()\n",
    "sparsity_ratio = num_zeros / total_elements\n",
    "\n",
    "# Print the sparsity ratio\n",
    "print(f'Sparsity Ratio: {sparsity_ratio:.4f}')"
   ],
   "metadata": {
    "collapsed": false
   }
  },
  {
   "cell_type": "code",
   "execution_count": null,
   "outputs": [],
   "source": [],
   "metadata": {
    "collapsed": false
   }
  }
 ],
 "metadata": {
  "kernelspec": {
   "display_name": "Python 3",
   "language": "python",
   "name": "python3"
  },
  "language_info": {
   "codemirror_mode": {
    "name": "ipython",
    "version": 2
   },
   "file_extension": ".py",
   "mimetype": "text/x-python",
   "name": "python",
   "nbconvert_exporter": "python",
   "pygments_lexer": "ipython2",
   "version": "2.7.6"
  }
 },
 "nbformat": 4,
 "nbformat_minor": 0
}
